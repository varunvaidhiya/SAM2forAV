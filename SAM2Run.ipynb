{
 "cells": [
  {
   "cell_type": "code",
   "execution_count": 2,
   "id": "4575673a-ffcb-4f43-bea9-8eb18e0370b6",
   "metadata": {},
   "outputs": [
    {
     "name": "stdout",
     "output_type": "stream",
     "text": [
      "C:\\Users\\varun\\Desktop\\Projects\\SCAV\\SAM\\segment-anything-2\n"
     ]
    },
    {
     "name": "stderr",
     "output_type": "stream",
     "text": [
      "Cloning into 'segment-anything-2'...\n"
     ]
    },
    {
     "name": "stdout",
     "output_type": "stream",
     "text": [
      "Defaulting to user installation because normal site-packages is not writeable\n",
      "Obtaining file:///C:/Users/varun/Desktop/Projects/SCAV/SAM/segment-anything-2\n",
      "  Installing build dependencies: started\n",
      "  Installing build dependencies: still running...\n",
      "  Installing build dependencies: finished with status 'done'\n",
      "  Checking if build backend supports build_editable: started\n",
      "  Checking if build backend supports build_editable: finished with status 'done'\n",
      "  Getting requirements to build editable: started\n",
      "  Getting requirements to build editable: finished with status 'done'\n",
      "  Preparing editable metadata (pyproject.toml): started\n",
      "  Preparing editable metadata (pyproject.toml): finished with status 'done'\n",
      "Collecting torch>=2.3.1 (from SAM-2==1.0)\n",
      "  Using cached torch-2.4.0-cp312-cp312-win_amd64.whl.metadata (27 kB)\n",
      "Collecting torchvision>=0.18.1 (from SAM-2==1.0)\n",
      "  Downloading torchvision-0.19.0-1-cp312-cp312-win_amd64.whl.metadata (6.1 kB)\n",
      "Requirement already satisfied: numpy>=1.24.4 in c:\\programdata\\anaconda3\\lib\\site-packages (from SAM-2==1.0) (1.26.4)\n",
      "Requirement already satisfied: tqdm>=4.66.1 in c:\\programdata\\anaconda3\\lib\\site-packages (from SAM-2==1.0) (4.66.4)\n",
      "Collecting hydra-core>=1.3.2 (from SAM-2==1.0)\n",
      "  Using cached hydra_core-1.3.2-py3-none-any.whl.metadata (5.5 kB)\n",
      "Collecting iopath>=0.1.10 (from SAM-2==1.0)\n",
      "  Using cached iopath-0.1.10.tar.gz (42 kB)\n",
      "  Preparing metadata (setup.py): started\n",
      "  Preparing metadata (setup.py): finished with status 'done'\n",
      "Requirement already satisfied: pillow>=9.4.0 in c:\\programdata\\anaconda3\\lib\\site-packages (from SAM-2==1.0) (10.3.0)\n",
      "Collecting omegaconf<2.4,>=2.2 (from hydra-core>=1.3.2->SAM-2==1.0)\n",
      "  Using cached omegaconf-2.3.0-py3-none-any.whl.metadata (3.9 kB)\n",
      "Collecting antlr4-python3-runtime==4.9.* (from hydra-core>=1.3.2->SAM-2==1.0)\n",
      "  Using cached antlr4-python3-runtime-4.9.3.tar.gz (117 kB)\n",
      "  Preparing metadata (setup.py): started\n",
      "  Preparing metadata (setup.py): finished with status 'done'\n",
      "Requirement already satisfied: packaging in c:\\programdata\\anaconda3\\lib\\site-packages (from hydra-core>=1.3.2->SAM-2==1.0) (23.2)\n",
      "Requirement already satisfied: typing_extensions in c:\\programdata\\anaconda3\\lib\\site-packages (from iopath>=0.1.10->SAM-2==1.0) (4.11.0)\n",
      "Collecting portalocker (from iopath>=0.1.10->SAM-2==1.0)\n",
      "  Downloading portalocker-2.10.1-py3-none-any.whl.metadata (8.5 kB)\n",
      "Requirement already satisfied: filelock in c:\\programdata\\anaconda3\\lib\\site-packages (from torch>=2.3.1->SAM-2==1.0) (3.13.1)\n",
      "Requirement already satisfied: sympy in c:\\programdata\\anaconda3\\lib\\site-packages (from torch>=2.3.1->SAM-2==1.0) (1.12)\n",
      "Requirement already satisfied: networkx in c:\\programdata\\anaconda3\\lib\\site-packages (from torch>=2.3.1->SAM-2==1.0) (3.2.1)\n",
      "Requirement already satisfied: jinja2 in c:\\programdata\\anaconda3\\lib\\site-packages (from torch>=2.3.1->SAM-2==1.0) (3.1.4)\n",
      "Requirement already satisfied: fsspec in c:\\programdata\\anaconda3\\lib\\site-packages (from torch>=2.3.1->SAM-2==1.0) (2024.3.1)\n",
      "Requirement already satisfied: setuptools in c:\\programdata\\anaconda3\\lib\\site-packages (from torch>=2.3.1->SAM-2==1.0) (69.5.1)\n",
      "Requirement already satisfied: colorama in c:\\programdata\\anaconda3\\lib\\site-packages (from tqdm>=4.66.1->SAM-2==1.0) (0.4.6)\n",
      "Requirement already satisfied: PyYAML>=5.1.0 in c:\\programdata\\anaconda3\\lib\\site-packages (from omegaconf<2.4,>=2.2->hydra-core>=1.3.2->SAM-2==1.0) (6.0.1)\n",
      "Requirement already satisfied: MarkupSafe>=2.0 in c:\\programdata\\anaconda3\\lib\\site-packages (from jinja2->torch>=2.3.1->SAM-2==1.0) (2.1.3)\n",
      "Requirement already satisfied: pywin32>=226 in c:\\programdata\\anaconda3\\lib\\site-packages (from portalocker->iopath>=0.1.10->SAM-2==1.0) (305.1)\n",
      "Requirement already satisfied: mpmath>=0.19 in c:\\programdata\\anaconda3\\lib\\site-packages (from sympy->torch>=2.3.1->SAM-2==1.0) (1.3.0)\n",
      "Downloading hydra_core-1.3.2-py3-none-any.whl (154 kB)\n",
      "   ---------------------------------------- 0.0/154.5 kB ? eta -:--:--\n",
      "   ------- ------------------------------- 30.7/154.5 kB 660.6 kB/s eta 0:00:01\n",
      "   ---------------------------------------  153.6/154.5 kB 2.3 MB/s eta 0:00:01\n",
      "   ---------------------------------------- 154.5/154.5 kB 1.3 MB/s eta 0:00:00\n",
      "Using cached torch-2.4.0-cp312-cp312-win_amd64.whl (197.8 MB)\n",
      "Downloading torchvision-0.19.0-1-cp312-cp312-win_amd64.whl (1.3 MB)\n",
      "   ---------------------------------------- 0.0/1.3 MB ? eta -:--:--\n",
      "   ---------------------- ----------------- 0.7/1.3 MB 15.3 MB/s eta 0:00:01\n",
      "   ---------------------------------------- 1.3/1.3 MB 16.4 MB/s eta 0:00:00\n",
      "Using cached omegaconf-2.3.0-py3-none-any.whl (79 kB)\n",
      "Downloading portalocker-2.10.1-py3-none-any.whl (18 kB)\n",
      "Building wheels for collected packages: SAM-2, antlr4-python3-runtime, iopath\n",
      "  Building editable for SAM-2 (pyproject.toml): started\n",
      "  Building editable for SAM-2 (pyproject.toml): finished with status 'done'\n",
      "  Created wheel for SAM-2: filename=SAM_2-1.0-0.editable-py3-none-any.whl size=12407 sha256=58d5475185d8abc006809ce3bf9f93225a85d226d762398d8327d61104962344\n",
      "  Stored in directory: C:\\Users\\varun\\AppData\\Local\\Temp\\pip-ephem-wheel-cache-4qsqgngg\\wheels\\aa\\d1\\5d\\004f75122ac48eccb584a92b372f067a3d6188c043992ad51c\n",
      "  Building wheel for antlr4-python3-runtime (setup.py): started\n",
      "  Building wheel for antlr4-python3-runtime (setup.py): finished with status 'done'\n",
      "  Created wheel for antlr4-python3-runtime: filename=antlr4_python3_runtime-4.9.3-py3-none-any.whl size=144578 sha256=eee611d04193aadffdf8b642b6a82165ddc8e71d58a53907ca0de6b9eec9caa3\n",
      "  Stored in directory: c:\\users\\varun\\appdata\\local\\pip\\cache\\wheels\\1f\\be\\48\\13754633f1d08d1fbfc60d5e80ae1e5d7329500477685286cd\n",
      "  Building wheel for iopath (setup.py): started\n",
      "  Building wheel for iopath (setup.py): finished with status 'done'\n",
      "  Created wheel for iopath: filename=iopath-0.1.10-py3-none-any.whl size=31543 sha256=de4d85c85a02b26414df0fc1bb69d855a1c1f2e04ac1889c0e782d1aedc75a73\n",
      "  Stored in directory: c:\\users\\varun\\appdata\\local\\pip\\cache\\wheels\\7c\\96\\04\\4f5f31ff812f684f69f40cb1634357812220aac58d4698048c\n",
      "Successfully built SAM-2 antlr4-python3-runtime iopath\n",
      "Installing collected packages: antlr4-python3-runtime, portalocker, omegaconf, torch, iopath, hydra-core, torchvision, SAM-2\n",
      "Successfully installed SAM-2-1.0 antlr4-python3-runtime-4.9.3 hydra-core-1.3.2 iopath-0.1.10 omegaconf-2.3.0 portalocker-2.10.1 torch-2.4.0 torchvision-0.19.0\n"
     ]
    },
    {
     "name": "stderr",
     "output_type": "stream",
     "text": [
      "  WARNING: The scripts convert-caffe2-to-onnx.exe, convert-onnx-to-caffe2.exe and torchrun.exe are installed in 'C:\\Users\\varun\\AppData\\Roaming\\Python\\Python312\\Scripts' which is not on PATH.\n",
      "  Consider adding this directory to PATH or, if you prefer to suppress this warning, use --no-warn-script-location.\n"
     ]
    }
   ],
   "source": [
    "!git clone https://github.com/facebookresearch/segment-anything-2.git\n",
    "%cd segment-anything-2\n",
    "!pip install -e ."
   ]
  },
  {
   "cell_type": "code",
   "execution_count": 2,
   "id": "c1897337-8810-424d-99c3-83c49b40799b",
   "metadata": {},
   "outputs": [
    {
     "name": "stderr",
     "output_type": "stream",
     "text": [
      "The system cannot find the path specified.\n",
      "'download_ckpts.sh' is not recognized as an internal or external command,\n",
      "operable program or batch file.\n"
     ]
    }
   ],
   "source": [
    "!cd checkpoints\n",
    "!./download_ckpts.sh\n"
   ]
  },
  {
   "cell_type": "code",
   "execution_count": 4,
   "id": "03dfc2cd-2273-42db-affc-29add12ad7bb",
   "metadata": {},
   "outputs": [
    {
     "ename": "ImportError",
     "evalue": "cannot import name 'image' from 'PIL' (C:\\ProgramData\\anaconda3\\Lib\\site-packages\\PIL\\__init__.py)",
     "output_type": "error",
     "traceback": [
      "\u001b[1;31m---------------------------------------------------------------------------\u001b[0m",
      "\u001b[1;31mImportError\u001b[0m                               Traceback (most recent call last)",
      "Cell \u001b[1;32mIn[4], line 5\u001b[0m\n\u001b[0;32m      3\u001b[0m \u001b[38;5;28;01mimport\u001b[39;00m \u001b[38;5;21;01mnumpy\u001b[39;00m \u001b[38;5;28;01mas\u001b[39;00m \u001b[38;5;21;01mnp\u001b[39;00m\n\u001b[0;32m      4\u001b[0m \u001b[38;5;28;01mimport\u001b[39;00m \u001b[38;5;21;01mmatplotlib\u001b[39;00m\u001b[38;5;21;01m.\u001b[39;00m\u001b[38;5;21;01mpyplot\u001b[39;00m \u001b[38;5;28;01mas\u001b[39;00m \u001b[38;5;21;01mplt\u001b[39;00m\n\u001b[1;32m----> 5\u001b[0m \u001b[38;5;28;01mfrom\u001b[39;00m \u001b[38;5;21;01mPIL\u001b[39;00m \u001b[38;5;28;01mimport\u001b[39;00m image\n",
      "\u001b[1;31mImportError\u001b[0m: cannot import name 'image' from 'PIL' (C:\\ProgramData\\anaconda3\\Lib\\site-packages\\PIL\\__init__.py)"
     ]
    }
   ],
   "source": [
    "import os\n",
    "import torch\n",
    "import numpy as np\n",
    "import matplotlib.pyplot as plt\n",
    "from PIL import image"
   ]
  },
  {
   "cell_type": "code",
   "execution_count": null,
   "id": "afe8a6d9-6451-4ddf-9592-328874d8d57b",
   "metadata": {},
   "outputs": [],
   "source": []
  },
  {
   "cell_type": "code",
   "execution_count": null,
   "id": "cecd6dfb-5a26-488e-a3ba-083fde2725fb",
   "metadata": {},
   "outputs": [],
   "source": []
  },
  {
   "cell_type": "code",
   "execution_count": 3,
   "id": "fa2834b0-8d4d-461e-a565-e955445e07b1",
   "metadata": {},
   "outputs": [
    {
     "name": "stdout",
     "output_type": "stream",
     "text": [
      "3.12.4 | packaged by Anaconda, Inc. | (main, Jun 18 2024, 15:03:56) [MSC v.1929 64 bit (AMD64)]\n"
     ]
    }
   ],
   "source": [
    "import sys\n",
    "print(sys.version)\n"
   ]
  },
  {
   "cell_type": "code",
   "execution_count": 7,
   "id": "bdd85c26-b6a1-4132-8af9-b745494c3fdf",
   "metadata": {},
   "outputs": [
    {
     "ename": "SyntaxError",
     "evalue": "invalid syntax (3505189662.py, line 1)",
     "output_type": "error",
     "traceback": [
      "\u001b[1;36m  File \u001b[1;32m\"C:\\Users\\varun\\AppData\\Local\\Temp\\ipykernel_25984\\3505189662.py\"\u001b[1;36m, line \u001b[1;32m1\u001b[0m\n\u001b[1;33m    python -m ensurepip\u001b[0m\n\u001b[1;37m              ^\u001b[0m\n\u001b[1;31mSyntaxError\u001b[0m\u001b[1;31m:\u001b[0m invalid syntax\n"
     ]
    }
   ],
   "source": [
    "python -m ensurepip"
   ]
  },
  {
   "cell_type": "code",
   "execution_count": 4,
   "id": "908143c5-fd43-4047-8b72-c2adbf75dfe8",
   "metadata": {},
   "outputs": [
    {
     "ename": "NameError",
     "evalue": "name 'python' is not defined",
     "output_type": "error",
     "traceback": [
      "\u001b[1;31m---------------------------------------------------------------------------\u001b[0m",
      "\u001b[1;31mNameError\u001b[0m                                 Traceback (most recent call last)",
      "\u001b[1;32m~\\AppData\\Local\\Temp\\ipykernel_29588\\4008145293.py\u001b[0m in \u001b[0;36m<module>\u001b[1;34m\u001b[0m\n\u001b[1;32m----> 1\u001b[1;33m \u001b[0mpython\u001b[0m \u001b[1;33m-\u001b[0m\u001b[1;33m-\u001b[0m\u001b[0mversion\u001b[0m\u001b[1;33m\u001b[0m\u001b[1;33m\u001b[0m\u001b[0m\n\u001b[0m",
      "\u001b[1;31mNameError\u001b[0m: name 'python' is not defined"
     ]
    }
   ],
   "source": [
    "python --version\n"
   ]
  },
  {
   "cell_type": "code",
   "execution_count": 4,
   "id": "eb6b2c53-cf8e-4342-bf1e-0fe67ccf2cac",
   "metadata": {},
   "outputs": [
    {
     "ename": "NameError",
     "evalue": "name 'python' is not defined",
     "output_type": "error",
     "traceback": [
      "\u001b[1;31m---------------------------------------------------------------------------\u001b[0m",
      "\u001b[1;31mNameError\u001b[0m                                 Traceback (most recent call last)",
      "\u001b[1;32m~\\AppData\\Local\\Temp\\ipykernel_29588\\4008145293.py\u001b[0m in \u001b[0;36m<module>\u001b[1;34m\u001b[0m\n\u001b[1;32m----> 1\u001b[1;33m \u001b[0mpython\u001b[0m \u001b[1;33m-\u001b[0m\u001b[1;33m-\u001b[0m\u001b[0mversion\u001b[0m\u001b[1;33m\u001b[0m\u001b[1;33m\u001b[0m\u001b[0m\n\u001b[0m",
      "\u001b[1;31mNameError\u001b[0m: name 'python' is not defined"
     ]
    }
   ],
   "source": [
    "python --version\n"
   ]
  },
  {
   "cell_type": "code",
   "execution_count": 8,
   "id": "5f7c615a-c899-4b86-8487-421bba9842ab",
   "metadata": {},
   "outputs": [
    {
     "name": "stdout",
     "output_type": "stream",
     "text": [
      "3.9.19 (main, May  6 2024, 20:12:36) [MSC v.1916 64 bit (AMD64)]\n"
     ]
    }
   ],
   "source": [
    "import sys\n",
    "print(sys.version)"
   ]
  },
  {
   "cell_type": "code",
   "execution_count": 9,
   "id": "be1b03bb-7ea9-494e-b9bc-ffc55f9443b3",
   "metadata": {},
   "outputs": [
    {
     "data": {
      "text/plain": [
       "'2.4.0+cpu'"
      ]
     },
     "execution_count": 9,
     "metadata": {},
     "output_type": "execute_result"
    }
   ],
   "source": [
    "import torch \n",
    "torch.__version__\n"
   ]
  },
  {
   "cell_type": "code",
   "execution_count": null,
   "id": "a59185cc-f7c4-407b-bb83-9024ec4a6dd5",
   "metadata": {},
   "outputs": [],
   "source": []
  }
 ],
 "metadata": {
  "kernelspec": {
   "display_name": "Python 3 (ipykernel)",
   "language": "python",
   "name": "python3"
  },
  "language_info": {
   "codemirror_mode": {
    "name": "ipython",
    "version": 3
   },
   "file_extension": ".py",
   "mimetype": "text/x-python",
   "name": "python",
   "nbconvert_exporter": "python",
   "pygments_lexer": "ipython3",
   "version": "3.12.4"
  }
 },
 "nbformat": 4,
 "nbformat_minor": 5
}
