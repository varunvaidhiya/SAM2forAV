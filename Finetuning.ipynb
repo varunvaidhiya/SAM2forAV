{
 "cells": [
  {
   "cell_type": "markdown",
   "metadata": {},
   "source": [
    "# Import Required Libraries\n",
    "Import necessary libraries such as PyTorch, torchvision, and any other dependencies."
   ]
  },
  {
   "cell_type": "code",
   "execution_count": null,
   "metadata": {},
   "outputs": [],
   "source": [
    "# Import necessary libraries\n",
    "import torch\n",
    "import torchvision\n",
    "from torch import nn, optim\n",
    "from torchvision import datasets, transforms, models\n",
    "\n",
    "# Additional dependencies\n",
    "import numpy as np\n",
    "import matplotlib.pyplot as plt\n",
    "from tqdm import tqdm"
   ]
  },
  {
   "cell_type": "markdown",
   "metadata": {},
   "source": [
    "# Load the Mapillary Dataset\n",
    "Load the Mapillary dataset using torchvision or a custom data loader."
   ]
  },
  {
   "cell_type": "code",
   "execution_count": null,
   "metadata": {},
   "outputs": [],
   "source": [
    "# Load the Mapillary Dataset\n",
    "\n",
    "# Define the transformation for the dataset\n",
    "transform = transforms.Compose([\n",
    "    transforms.Resize((256, 256)),  # Resize images to 256x256\n",
    "    transforms.ToTensor(),  # Convert images to PyTorch tensors\n",
    "    transforms.Normalize(mean=[0.485, 0.456, 0.406], std=[0.229, 0.224, 0.225])  # Normalize with ImageNet mean and std\n",
    "])\n",
    "\n",
    "# Load the Mapillary dataset\n",
    "# Assuming the dataset is in a directory named 'mapillary_dataset'\n",
    "dataset_path = 'path/to/mapillary_dataset'\n",
    "mapillary_dataset = datasets.ImageFolder(root=dataset_path, transform=transform)\n",
    "\n",
    "# Split the dataset into training and validation sets\n",
    "train_size = int(0.8 * len(mapillary_dataset))\n",
    "val_size = len(mapillary_dataset) - train_size\n",
    "train_dataset, val_dataset = torch.utils.data.random_split(mapillary_dataset, [train_size, val_size])\n",
    "\n",
    "# Create data loaders for training and validation\n",
    "train_loader = torch.utils.data.DataLoader(train_dataset, batch_size=32, shuffle=True, num_workers=4)\n",
    "val_loader = torch.utils.data.DataLoader(val_dataset, batch_size=32, shuffle=False, num_workers=4)\n",
    "\n",
    "# Display the size of the datasets\n",
    "print(f'Training dataset size: {train_size}')\n",
    "print(f'Validation dataset size: {val_size}')"
   ]
  },
  {
   "cell_type": "markdown",
   "metadata": {},
   "source": [
    "# Preprocess the Dataset\n",
    "Preprocess the dataset, including resizing, normalization, and data augmentation."
   ]
  },
  {
   "cell_type": "code",
   "execution_count": null,
   "metadata": {},
   "outputs": [],
   "source": [
    "# Data Augmentation\n",
    "augmentation_transform = transforms.Compose([\n",
    "    transforms.RandomHorizontalFlip(),  # Randomly flip images horizontally\n",
    "    transforms.RandomRotation(10),  # Randomly rotate images by 10 degrees\n",
    "    transforms.ColorJitter(brightness=0.2, contrast=0.2, saturation=0.2, hue=0.2),  # Randomly change the brightness, contrast, saturation, and hue\n",
    "    transforms.ToTensor(),  # Convert images to PyTorch tensors\n",
    "    transforms.Normalize(mean=[0.485, 0.456, 0.406], std=[0.229, 0.224, 0.225])  # Normalize with ImageNet mean and std\n",
    "])\n",
    "\n",
    "# Apply data augmentation to the training dataset\n",
    "train_dataset.dataset.transform = augmentation_transform\n",
    "\n",
    "# Display a few augmented images\n",
    "def imshow(img):\n",
    "    img = img / 2 + 0.5  # Unnormalize\n",
    "    npimg = img.numpy()\n",
    "    plt.imshow(np.transpose(npimg, (1, 2, 0)))\n",
    "    plt.show()\n",
    "\n",
    "# Get a batch of training data\n",
    "dataiter = iter(train_loader)\n",
    "images, labels = dataiter.next()\n",
    "\n",
    "# Show images\n",
    "imshow(torchvision.utils.make_grid(images))"
   ]
  },
  {
   "cell_type": "markdown",
   "metadata": {},
   "source": [
    "# Load SAM Checkpoints\n",
    "Load the pre-trained SAM checkpoints from the downloaded files."
   ]
  },
  {
   "cell_type": "code",
   "execution_count": null,
   "metadata": {},
   "outputs": [],
   "source": [
    "# Load SAM Checkpoints\n",
    "\n",
    "# Define the path to the SAM checkpoints\n",
    "sam_checkpoint_path = 'path/to/sam_checkpoints'\n",
    "\n",
    "# Load the SAM model\n",
    "sam_model = torch.load(sam_checkpoint_path)\n",
    "\n",
    "# Set the model to evaluation mode\n",
    "sam_model.eval()\n",
    "\n",
    "# Print the model architecture\n",
    "print(sam_model)"
   ]
  },
  {
   "cell_type": "markdown",
   "metadata": {},
   "source": [
    "# Define the Model Architecture\n",
    "Define the SAM model architecture and modify it if necessary for the specific task."
   ]
  },
  {
   "cell_type": "code",
   "execution_count": null,
   "metadata": {},
   "outputs": [],
   "source": [
    "# Define the Model Architecture\n",
    "\n",
    "# Define the SAM model architecture and modify it if necessary for the specific task\n",
    "class SAMModel(nn.Module):\n",
    "    def __init__(self, pretrained_model):\n",
    "        super(SAMModel, self).__init__()\n",
    "        self.pretrained_model = pretrained_model\n",
    "        \n",
    "        # Modify the final layer to match the number of classes in the Mapillary dataset\n",
    "        num_ftrs = self.pretrained_model.fc.in_features\n",
    "        self.pretrained_model.fc = nn.Linear(num_ftrs, len(mapillary_dataset.classes))\n",
    "    \n",
    "    def forward(self, x):\n",
    "        return self.pretrained_model(x)\n",
    "\n",
    "# Initialize the SAM model with the pretrained weights\n",
    "model = SAMModel(sam_model)\n",
    "\n",
    "# Print the modified model architecture\n",
    "print(model)"
   ]
  },
  {
   "cell_type": "markdown",
   "metadata": {},
   "source": [
    "# Set Up Training Configuration\n",
    "Set up the training configuration, including loss function, optimizer, and learning rate scheduler."
   ]
  },
  {
   "cell_type": "code",
   "execution_count": null,
   "metadata": {},
   "outputs": [],
   "source": [
    "# Set Up Training Configuration\n",
    "\n",
    "# Define the loss function\n",
    "criterion = nn.CrossEntropyLoss()\n",
    "\n",
    "# Define the optimizer\n",
    "optimizer = optim.Adam(model.parameters(), lr=0.001)\n",
    "\n",
    "# Define the learning rate scheduler\n",
    "scheduler = optim.lr_scheduler.StepLR(optimizer, step_size=7, gamma=0.1)\n",
    "\n",
    "# Print the training configuration\n",
    "print(\"Loss function:\", criterion)\n",
    "print(\"Optimizer:\", optimizer)\n",
    "print(\"Learning rate scheduler:\", scheduler)"
   ]
  },
  {
   "cell_type": "markdown",
   "metadata": {},
   "source": [
    "# Train the Model\n",
    "Train the SAM model on the preprocessed Mapillary dataset."
   ]
  },
  {
   "cell_type": "code",
   "execution_count": null,
   "metadata": {},
   "outputs": [],
   "source": [
    "# Train the Model\n",
    "\n",
    "# Set the device to GPU if available\n",
    "device = torch.device(\"cuda\" if torch.cuda.is_available() else \"cpu\")\n",
    "model.to(device)\n",
    "\n",
    "# Number of epochs to train the model\n",
    "num_epochs = 25\n",
    "\n",
    "# Training loop\n",
    "for epoch in range(num_epochs):\n",
    "    print(f'Epoch {epoch+1}/{num_epochs}')\n",
    "    print('-' * 10)\n",
    "    \n",
    "    # Each epoch has a training and validation phase\n",
    "    for phase in ['train', 'val']:\n",
    "        if phase == 'train':\n",
    "            model.train()  # Set model to training mode\n",
    "            dataloader = train_loader\n",
    "        else:\n",
    "            model.eval()  # Set model to evaluate mode\n",
    "            dataloader = val_loader\n",
    "        \n",
    "        running_loss = 0.0\n",
    "        running_corrects = 0\n",
    "        \n",
    "        # Iterate over data\n",
    "        for inputs, labels in tqdm(dataloader):\n",
    "            inputs = inputs.to(device)\n",
    "            labels = labels.to(device)\n",
    "            \n",
    "            # Zero the parameter gradients\n",
    "            optimizer.zero_grad()\n",
    "            \n",
    "            # Forward pass\n",
    "            with torch.set_grad_enabled(phase == 'train'):\n",
    "                outputs = model(inputs)\n",
    "                _, preds = torch.max(outputs, 1)\n",
    "                loss = criterion(outputs, labels)\n",
    "                \n",
    "                # Backward pass and optimize only if in training phase\n",
    "                if phase == 'train':\n",
    "                    loss.backward()\n",
    "                    optimizer.step()\n",
    "            \n",
    "            # Statistics\n",
    "            running_loss += loss.item() * inputs.size(0)\n",
    "            running_corrects += torch.sum(preds == labels.data)\n",
    "        \n",
    "        if phase == 'train':\n",
    "            scheduler.step()\n",
    "        \n",
    "        epoch_loss = running_loss / len(dataloader.dataset)\n",
    "        epoch_acc = running_corrects.double() / len(dataloader.dataset)\n",
    "        \n",
    "        print(f'{phase} Loss: {epoch_loss:.4f} Acc: {epoch_acc:.4f}')\n",
    "    \n",
    "    print()\n",
    "\n",
    "# Save the trained model\n",
    "torch.save(model.state_dict(), 'sam_finetuned_mapillary.pth')"
   ]
  },
  {
   "cell_type": "markdown",
   "metadata": {},
   "source": [
    "# Evaluate the Model Performance\n",
    "Evaluate the performance of the fine-tuned model on a validation set."
   ]
  },
  {
   "cell_type": "code",
   "execution_count": null,
   "metadata": {},
   "outputs": [],
   "source": [
    "# Evaluate the Model Performance\n",
    "\n",
    "# Set the model to evaluation mode\n",
    "model.eval()\n",
    "\n",
    "# Initialize variables to track performance\n",
    "running_loss = 0.0\n",
    "running_corrects = 0\n",
    "\n",
    "# Disable gradient computation for evaluation\n",
    "with torch.no_grad():\n",
    "    for inputs, labels in tqdm(val_loader):\n",
    "        inputs = inputs.to(device)\n",
    "        labels = labels.to(device)\n",
    "        \n",
    "        # Forward pass\n",
    "        outputs = model(inputs)\n",
    "        _, preds = torch.max(outputs, 1)\n",
    "        loss = criterion(outputs, labels)\n",
    "        \n",
    "        # Statistics\n",
    "        running_loss += loss.item() * inputs.size(0)\n",
    "        running_corrects += torch.sum(preds == labels.data)\n",
    "\n",
    "# Calculate loss and accuracy\n",
    "val_loss = running_loss / len(val_loader.dataset)\n",
    "val_acc = running_corrects.double() / len(val_loader.dataset)\n",
    "\n",
    "print(f'Validation Loss: {val_loss:.4f}')\n",
    "print(f'Validation Accuracy: {val_acc:.4f}')"
   ]
  },
  {
   "cell_type": "markdown",
   "metadata": {},
   "source": [
    "# Save the Fine-Tuned Model\n",
    "Save the fine-tuned model to disk for future use."
   ]
  },
  {
   "cell_type": "code",
   "execution_count": null,
   "metadata": {},
   "outputs": [],
   "source": [
    "# Save the Fine-Tuned Model\n",
    "\n",
    "# Save the fine-tuned model to disk for future use\n",
    "torch.save(model.state_dict(), 'sam_finetuned_mapillary.pth')\n",
    "\n",
    "# Verify that the model has been saved correctly by loading it back\n",
    "loaded_model = SAMModel(sam_model)\n",
    "loaded_model.load_state_dict(torch.load('sam_finetuned_mapillary.pth'))\n",
    "loaded_model.to(device)\n",
    "\n",
    "# Print the loaded model to confirm\n",
    "print(\"Loaded fine-tuned model:\")\n",
    "print(loaded_model)"
   ]
  }
 ],
 "metadata": {
  "language_info": {
   "name": "python"
  }
 },
 "nbformat": 4,
 "nbformat_minor": 2
}
